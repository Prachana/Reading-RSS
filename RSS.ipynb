{
 "cells": [
  {
   "cell_type": "markdown",
   "metadata": {},
   "source": [
    "\n",
    "\n",
    "\n"
   ]
  },
  {
   "cell_type": "markdown",
   "metadata": {},
   "source": [
    "# This  notebook reads RSS from SEC and save the new filings .txt file "
   ]
  },
  {
   "cell_type": "code",
   "execution_count": 1,
   "metadata": {},
   "outputs": [],
   "source": [
    "import feedparser\n",
    "import urllib3\n",
    "import os.path\n",
    "from os import path\n",
    "import numpy as np\n",
    "    "
   ]
  },
  {
   "cell_type": "code",
   "execution_count": 2,
   "metadata": {},
   "outputs": [],
   "source": [
    "def create_folder():\n",
    "    if os.path.exists('./save_folder'):\n",
    "        None\n",
    "        \n",
    "    else:\n",
    "        os.mkdir('./save_folder')\n",
    "    return None"
   ]
  },
  {
   "cell_type": "code",
   "execution_count": 3,
   "metadata": {},
   "outputs": [],
   "source": [
    "def File_exist(file_name):\n",
    "    create_folder()\n",
    "    return os.path.exists('./save_folder/'+file_name)"
   ]
  },
  {
   "cell_type": "code",
   "execution_count": 4,
   "metadata": {},
   "outputs": [],
   "source": [
    "def readrss(links):\n",
    "    url = []\n",
    "    htm2txt = []\n",
    "    slicetxt = []\n",
    "    nofile=[]\n",
    "    newfiligs = []\n",
    "    feed = feedparser.parse(links)\n",
    "    entry = feed.entries\n",
    "    \n",
    "    #Save links from rss\n",
    "    for htmlinks in entry:\n",
    "        url.append(htmlinks.link)\n",
    "    #Convert the links from -index.htm to .txt    \n",
    "    for txtlinks in url:\n",
    "        convert_txt = txtlinks.replace('-index.htm','.txt') \n",
    "        htm2txt.append(convert_txt)\n",
    "        \n",
    "    #Slice .txt link and only get the last item on the list  \n",
    "    for splittext in htm2txt: \n",
    "        txt = splittext.split(\"/\")[-1]\n",
    "        slicetxt.append(txt) \n",
    "        \n",
    "    #Compare slicetxt in folder if items in slicetxt does not exist add in nofile list    \n",
    "    for files in slicetxt:\n",
    "        if File_exist(files):\n",
    "            pass\n",
    "        else:\n",
    "            nofile.append(files)\n",
    "    #Compare the slicetxt and nonofile list and get the index where the items match\n",
    "    indx  = np.where(np.in1d(slicetxt, nofile))[0]\n",
    "    \n",
    "    #Get the links from the htm2txt according the the found indx and return the new links \n",
    "    for i in indx:\n",
    "         newfiligs.append(htm2txt[i])\n",
    "    \n",
    "    return newfiligs\n"
   ]
  },
  {
   "cell_type": "code",
   "execution_count": 5,
   "metadata": {},
   "outputs": [],
   "source": [
    "def check_file():\n",
    "    textlist = readrss('https://www.sec.gov/cgi-bin/browse-edgar?action=getcurrent&CIK=&type=MA-I&company=&dateb=&owner=include&start=0&count=40&output=atom')\n",
    "    if len(textlist) == 0:\n",
    "        print(\"No new files\")\n",
    "    else:\n",
    "        for i in textlist:\n",
    "            urllib3.disable_warnings(urllib3.exceptions.InsecureRequestWarning)\n",
    "            http = urllib3.PoolManager()\n",
    "            r = http.request('get', i)\n",
    "            fname = i.split(\"/\")[-1]\n",
    "            with open('./save_folder/' + fname,'wb') as f:\n",
    "                f.write(r.data)\n",
    "                f.close\n",
    "    return None"
   ]
  },
  {
   "cell_type": "code",
   "execution_count": 6,
   "metadata": {},
   "outputs": [],
   "source": [
    "check_file()"
   ]
  },
  {
   "cell_type": "code",
   "execution_count": null,
   "metadata": {},
   "outputs": [],
   "source": []
  }
 ],
 "metadata": {
  "kernelspec": {
   "display_name": "Python 3",
   "language": "python",
   "name": "python3"
  },
  "language_info": {
   "codemirror_mode": {
    "name": "ipython",
    "version": 3
   },
   "file_extension": ".py",
   "mimetype": "text/x-python",
   "name": "python",
   "nbconvert_exporter": "python",
   "pygments_lexer": "ipython3",
   "version": "3.7.4"
  }
 },
 "nbformat": 4,
 "nbformat_minor": 2
}
